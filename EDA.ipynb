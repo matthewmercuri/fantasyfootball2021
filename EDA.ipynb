{
 "cells": [
  {
   "cell_type": "markdown",
   "id": "fd0e8fed",
   "metadata": {},
   "source": [
    "# 2021 Fantasy Football\n",
    "\n",
    "### GOAL: to create a draft assistant that selects and ideal lineup\n",
    "\n",
    "### What is needed or data required\n",
    "- historical data for player and team performance\n",
    "- depth charts\n",
    "\n",
    "### Methods\n",
    "- linear regression\n",
    "- XGBoost\n",
    "- other ML techniques"
   ]
  },
  {
   "cell_type": "markdown",
   "id": "edd10f70",
   "metadata": {},
   "source": [
    "## Data"
   ]
  },
  {
   "cell_type": "markdown",
   "id": "f8b7332f",
   "metadata": {},
   "source": [
    "### Fetching and Loading Data - Previous Year's Fantasy Football Results"
   ]
  },
  {
   "cell_type": "code",
   "execution_count": 1,
   "id": "04a1aed8",
   "metadata": {},
   "outputs": [],
   "source": [
    "from bs4 import BeautifulSoup\n",
    "import os\n",
    "import pandas as pd\n",
    "import requests\n",
    "from tqdm import tqdm"
   ]
  },
  {
   "cell_type": "code",
   "execution_count": 2,
   "id": "aa3fec5f",
   "metadata": {},
   "outputs": [
    {
     "data": {
      "text/html": [
       "<div>\n",
       "<style scoped>\n",
       "    .dataframe tbody tr th:only-of-type {\n",
       "        vertical-align: middle;\n",
       "    }\n",
       "\n",
       "    .dataframe tbody tr th {\n",
       "        vertical-align: top;\n",
       "    }\n",
       "\n",
       "    .dataframe thead th {\n",
       "        text-align: right;\n",
       "    }\n",
       "</style>\n",
       "<table border=\"1\" class=\"dataframe\">\n",
       "  <thead>\n",
       "    <tr style=\"text-align: right;\">\n",
       "      <th></th>\n",
       "      <th>Player</th>\n",
       "      <th>Tm</th>\n",
       "      <th>FantPos</th>\n",
       "      <th>Age</th>\n",
       "      <th>Games_G</th>\n",
       "      <th>Games_GS</th>\n",
       "      <th>Passing_Cmp</th>\n",
       "      <th>Passing_Att</th>\n",
       "      <th>Passing_Yds</th>\n",
       "      <th>Passing_TD</th>\n",
       "      <th>...</th>\n",
       "      <th>Scoring_2PM</th>\n",
       "      <th>Scoring_2PP</th>\n",
       "      <th>Fantasy_FantPt</th>\n",
       "      <th>Fantasy_PPR</th>\n",
       "      <th>Fantasy_DKPt</th>\n",
       "      <th>Fantasy_FDPt</th>\n",
       "      <th>Fantasy_VBD</th>\n",
       "      <th>Fantasy_PosRank</th>\n",
       "      <th>Fantasy_OvRank</th>\n",
       "      <th>for_year</th>\n",
       "    </tr>\n",
       "  </thead>\n",
       "  <tbody>\n",
       "    <tr>\n",
       "      <th>0</th>\n",
       "      <td>DERRICK HENRY</td>\n",
       "      <td>TEN</td>\n",
       "      <td>RB</td>\n",
       "      <td>26</td>\n",
       "      <td>16</td>\n",
       "      <td>16</td>\n",
       "      <td>0</td>\n",
       "      <td>0</td>\n",
       "      <td>0</td>\n",
       "      <td>0</td>\n",
       "      <td>...</td>\n",
       "      <td>1</td>\n",
       "      <td>0</td>\n",
       "      <td>314</td>\n",
       "      <td>333.1</td>\n",
       "      <td>341.1</td>\n",
       "      <td>323.6</td>\n",
       "      <td>184</td>\n",
       "      <td>1</td>\n",
       "      <td>1</td>\n",
       "      <td>2020</td>\n",
       "    </tr>\n",
       "    <tr>\n",
       "      <th>1</th>\n",
       "      <td>ALVIN KAMARA</td>\n",
       "      <td>NOR</td>\n",
       "      <td>RB</td>\n",
       "      <td>25</td>\n",
       "      <td>15</td>\n",
       "      <td>10</td>\n",
       "      <td>0</td>\n",
       "      <td>0</td>\n",
       "      <td>0</td>\n",
       "      <td>0</td>\n",
       "      <td>...</td>\n",
       "      <td>0</td>\n",
       "      <td>0</td>\n",
       "      <td>295</td>\n",
       "      <td>377.8</td>\n",
       "      <td>383.8</td>\n",
       "      <td>336.3</td>\n",
       "      <td>165</td>\n",
       "      <td>2</td>\n",
       "      <td>2</td>\n",
       "      <td>2020</td>\n",
       "    </tr>\n",
       "    <tr>\n",
       "      <th>2</th>\n",
       "      <td>DALVIN COOK</td>\n",
       "      <td>MIN</td>\n",
       "      <td>RB</td>\n",
       "      <td>25</td>\n",
       "      <td>14</td>\n",
       "      <td>14</td>\n",
       "      <td>0</td>\n",
       "      <td>0</td>\n",
       "      <td>0</td>\n",
       "      <td>0</td>\n",
       "      <td>...</td>\n",
       "      <td>3</td>\n",
       "      <td>0</td>\n",
       "      <td>294</td>\n",
       "      <td>337.8</td>\n",
       "      <td>346.8</td>\n",
       "      <td>315.8</td>\n",
       "      <td>164</td>\n",
       "      <td>3</td>\n",
       "      <td>3</td>\n",
       "      <td>2020</td>\n",
       "    </tr>\n",
       "    <tr>\n",
       "      <th>3</th>\n",
       "      <td>TRAVIS KELCE</td>\n",
       "      <td>KAN</td>\n",
       "      <td>TE</td>\n",
       "      <td>31</td>\n",
       "      <td>15</td>\n",
       "      <td>15</td>\n",
       "      <td>1</td>\n",
       "      <td>2</td>\n",
       "      <td>4</td>\n",
       "      <td>0</td>\n",
       "      <td>...</td>\n",
       "      <td>1</td>\n",
       "      <td>0</td>\n",
       "      <td>208</td>\n",
       "      <td>312.8</td>\n",
       "      <td>316.8</td>\n",
       "      <td>260.3</td>\n",
       "      <td>117</td>\n",
       "      <td>1</td>\n",
       "      <td>4</td>\n",
       "      <td>2020</td>\n",
       "    </tr>\n",
       "    <tr>\n",
       "      <th>4</th>\n",
       "      <td>DAVANTE ADAMS</td>\n",
       "      <td>GNB</td>\n",
       "      <td>WR</td>\n",
       "      <td>28</td>\n",
       "      <td>14</td>\n",
       "      <td>14</td>\n",
       "      <td>0</td>\n",
       "      <td>0</td>\n",
       "      <td>0</td>\n",
       "      <td>0</td>\n",
       "      <td>...</td>\n",
       "      <td>0</td>\n",
       "      <td>0</td>\n",
       "      <td>243</td>\n",
       "      <td>358.4</td>\n",
       "      <td>362.4</td>\n",
       "      <td>300.9</td>\n",
       "      <td>117</td>\n",
       "      <td>1</td>\n",
       "      <td>5</td>\n",
       "      <td>2020</td>\n",
       "    </tr>\n",
       "  </tbody>\n",
       "</table>\n",
       "<p>5 rows × 33 columns</p>\n",
       "</div>"
      ],
      "text/plain": [
       "          Player   Tm FantPos  Age  Games_G  Games_GS  Passing_Cmp  \\\n",
       "0  DERRICK HENRY  TEN      RB   26       16        16            0   \n",
       "1   ALVIN KAMARA  NOR      RB   25       15        10            0   \n",
       "2    DALVIN COOK  MIN      RB   25       14        14            0   \n",
       "3   TRAVIS KELCE  KAN      TE   31       15        15            1   \n",
       "4  DAVANTE ADAMS  GNB      WR   28       14        14            0   \n",
       "\n",
       "   Passing_Att  Passing_Yds  Passing_TD  ...  Scoring_2PM  Scoring_2PP  \\\n",
       "0            0            0           0  ...            1            0   \n",
       "1            0            0           0  ...            0            0   \n",
       "2            0            0           0  ...            3            0   \n",
       "3            2            4           0  ...            1            0   \n",
       "4            0            0           0  ...            0            0   \n",
       "\n",
       "   Fantasy_FantPt  Fantasy_PPR  Fantasy_DKPt  Fantasy_FDPt  Fantasy_VBD  \\\n",
       "0             314        333.1         341.1         323.6          184   \n",
       "1             295        377.8         383.8         336.3          165   \n",
       "2             294        337.8         346.8         315.8          164   \n",
       "3             208        312.8         316.8         260.3          117   \n",
       "4             243        358.4         362.4         300.9          117   \n",
       "\n",
       "   Fantasy_PosRank  Fantasy_OvRank  for_year  \n",
       "0                1               1      2020  \n",
       "1                2               2      2020  \n",
       "2                3               3      2020  \n",
       "3                1               4      2020  \n",
       "4                1               5      2020  \n",
       "\n",
       "[5 rows x 33 columns]"
      ]
     },
     "execution_count": 2,
     "metadata": {},
     "output_type": "execute_result"
    }
   ],
   "source": [
    "# fetch and/or load historical FF performance data\n",
    "\n",
    "force_update = False\n",
    "\n",
    "YEARS = [2020, 2019, 2018, 2017, 2016]\n",
    "URL_FF_START = 'https://www.pro-football-reference.com/years/'\n",
    "URL_FF_END = '/fantasy.htm'\n",
    "\n",
    "# checking if data already exists ========================================\n",
    "FETCH = False\n",
    "FOUND_YEARS = []\n",
    "\n",
    "for year in YEARS:\n",
    "    if os.path.isfile(f'./data/{year}_ff_rankings.csv'):\n",
    "        FOUND_YEARS.append(year)\n",
    "\n",
    "if set(FOUND_YEARS) != set(YEARS):\n",
    "    GET_YEARS = []\n",
    "    for year in YEARS:\n",
    "        if year not in FOUND_YEARS:\n",
    "            GET_YEARS.append(year)\n",
    "    FETCH = True\n",
    "# ========================================================================\n",
    "if FETCH or force_update:\n",
    "    print('Gathering data...')\n",
    "    \n",
    "    # check if folder exists, if not, create it\n",
    "    if os.path.isdir('./data') is False:\n",
    "        os.mkdir('data')\n",
    "\n",
    "    for year in tqdm(GET_YEARS):\n",
    "        r = requests.get(URL_FF_START + str(year) + URL_FF_END, 'lxml')\n",
    "        df = pd.read_html(r.text, index_col=0)[0]\n",
    "\n",
    "        # fixing column names ============================================\n",
    "        df.columns = df.columns.to_flat_index()\n",
    "        df.columns = [\"_\".join(x) for x in df.columns]\n",
    "        \n",
    "        for col in df.columns:\n",
    "            if col[:3] == 'Unn':\n",
    "                df.rename(columns={col: col.split('_')[-1]}, inplace=True)\n",
    "        # ================================================================\n",
    "        \n",
    "        # other various fixes\n",
    "        df = df[df['Tm'] != 'Tm']\n",
    "        \n",
    "        df[df.columns[4:]] = df[df.columns[4:]].fillna(value=0)\n",
    "        \n",
    "        df['FantPos'] = df['FantPos'].fillna('UNKN')\n",
    "        df['FantPos'] = df['FantPos'].apply(lambda x: str(x).upper())\n",
    "        \n",
    "        df['Player'] = df['Player'].apply(lambda x: x.replace('*', ' '))\n",
    "        df['Player'] = df['Player'].apply(lambda x: x.replace('+', ' '))\n",
    "        df['Player'] = df['Player'].apply(lambda x: x.strip().upper())\n",
    "        \n",
    "        df.to_csv(f'./data/{year}_ff_rankings.csv')\n",
    "\n",
    "# loading in data\n",
    "ffranks_dfs = []\n",
    "for year in YEARS:\n",
    "    year_df = pd.read_csv(f'./data/{year}_ff_rankings.csv', index_col=0)\n",
    "    year_df['for_year'] = year\n",
    "\n",
    "    ffranks_dfs.append(year_df)\n",
    "        \n",
    "ffrank_df = pd.concat(ffranks_dfs, ignore_index=True)\n",
    "\n",
    "'''\n",
    "Can now access individual year frames or a combined frame. Most likely,\n",
    "just want to access the combine frame, so I'll only clean that\n",
    "'''\n",
    "\n",
    "ffrank_df.head()\n",
    "    "
   ]
  },
  {
   "cell_type": "markdown",
   "id": "af6e4c2b",
   "metadata": {},
   "source": [
    "### Data Cleaning"
   ]
  },
  {
   "cell_type": "code",
   "execution_count": 3,
   "id": "90e621dd",
   "metadata": {},
   "outputs": [],
   "source": [
    "# converting columns to necessary types - may be a bit overkill\n",
    "types_dict = {'Player': str, 'Tm': str, 'FantPos': str, 'Age': int,\n",
    "              'Games_G': int, 'Games_GS': int, 'Passing_Cmp': float,\n",
    "              'Passing_Att': int, 'Passing_Yds': float, 'Passing_TD': int,\n",
    "              'Passing_Int': int, 'Rushing_Att': int, 'Rushing_Yds': float,\n",
    "              'Rushing_Y/A': float, 'Rushing_TD': float, 'Receiving_Tgt': int,\n",
    "              'Receiving_Rec': int, 'Receiving_Yds': float, 'Receiving_Y/R': float,\n",
    "              'Receiving_TD': int, 'Fumbles_Fmb': int, 'Fumbles_FL': int,\n",
    "              'Scoring_TD': int, 'Scoring_2PM': int, 'Scoring_2PP': int,\n",
    "              'Fantasy_FantPt': float, 'Fantasy_PPR': float, 'Fantasy_DKPt': float,\n",
    "              'Fantasy_FDPt': float, 'Fantasy_VBD': float, 'Fantasy_PosRank': int,\n",
    "              'Fantasy_OvRank': int, 'for_year': int}\n",
    "\n",
    "ffrank_df = ffrank_df.astype(types_dict)"
   ]
  },
  {
   "cell_type": "markdown",
   "id": "5135fd4d",
   "metadata": {},
   "source": [
    "## EDA\n",
    "\n",
    "Questions:\n",
    "- Which age would be considered prime? Does this change by position?\n",
    "- Which positions produce the most fantasy points?\n",
    "- Which positions does quality matter most?\n",
    "    - for instance, is there a greater disparity in quality amongst QBs than RBs?"
   ]
  },
  {
   "cell_type": "code",
   "execution_count": 4,
   "id": "d9ad5fdf",
   "metadata": {},
   "outputs": [],
   "source": [
    "import matplotlib.pyplot as plt\n",
    "import seaborn as sns\n",
    "\n",
    "%matplotlib inline "
   ]
  },
  {
   "cell_type": "code",
   "execution_count": 5,
   "id": "13535ede",
   "metadata": {},
   "outputs": [],
   "source": [
    "MIN_GAMES = 8\n",
    "\n",
    "ffrank_df = ffrank_df[ffrank_df['Games_G'] >= MIN_GAMES]\n",
    "ffrank_df['FantPt/G'] = ffrank_df['Fantasy_FantPt'] / ffrank_df['Games_G']"
   ]
  },
  {
   "cell_type": "markdown",
   "id": "02fa87d2",
   "metadata": {},
   "source": [
    "### Athlete's Prime"
   ]
  },
  {
   "cell_type": "code",
   "execution_count": 6,
   "id": "52de9190",
   "metadata": {},
   "outputs": [
    {
     "data": {
      "text/html": [
       "<div>\n",
       "<style scoped>\n",
       "    .dataframe tbody tr th:only-of-type {\n",
       "        vertical-align: middle;\n",
       "    }\n",
       "\n",
       "    .dataframe tbody tr th {\n",
       "        vertical-align: top;\n",
       "    }\n",
       "\n",
       "    .dataframe thead th {\n",
       "        text-align: right;\n",
       "    }\n",
       "</style>\n",
       "<table border=\"1\" class=\"dataframe\">\n",
       "  <thead>\n",
       "    <tr style=\"text-align: right;\">\n",
       "      <th></th>\n",
       "      <th>mean</th>\n",
       "      <th>std</th>\n",
       "    </tr>\n",
       "  </thead>\n",
       "  <tbody>\n",
       "    <tr>\n",
       "      <th>21</th>\n",
       "      <td>6.579712</td>\n",
       "      <td>4.732348</td>\n",
       "    </tr>\n",
       "    <tr>\n",
       "      <th>22</th>\n",
       "      <td>5.582191</td>\n",
       "      <td>5.130109</td>\n",
       "    </tr>\n",
       "    <tr>\n",
       "      <th>23</th>\n",
       "      <td>4.985425</td>\n",
       "      <td>5.189155</td>\n",
       "    </tr>\n",
       "    <tr>\n",
       "      <th>24</th>\n",
       "      <td>4.584035</td>\n",
       "      <td>4.820650</td>\n",
       "    </tr>\n",
       "    <tr>\n",
       "      <th>25</th>\n",
       "      <td>4.874380</td>\n",
       "      <td>4.972625</td>\n",
       "    </tr>\n",
       "    <tr>\n",
       "      <th>26</th>\n",
       "      <td>4.316579</td>\n",
       "      <td>4.340187</td>\n",
       "    </tr>\n",
       "    <tr>\n",
       "      <th>27</th>\n",
       "      <td>4.868029</td>\n",
       "      <td>4.138598</td>\n",
       "    </tr>\n",
       "    <tr>\n",
       "      <th>28</th>\n",
       "      <td>5.068147</td>\n",
       "      <td>4.814736</td>\n",
       "    </tr>\n",
       "    <tr>\n",
       "      <th>29</th>\n",
       "      <td>5.504863</td>\n",
       "      <td>5.197668</td>\n",
       "    </tr>\n",
       "    <tr>\n",
       "      <th>30</th>\n",
       "      <td>5.290815</td>\n",
       "      <td>4.589474</td>\n",
       "    </tr>\n",
       "    <tr>\n",
       "      <th>31</th>\n",
       "      <td>6.091334</td>\n",
       "      <td>5.860929</td>\n",
       "    </tr>\n",
       "    <tr>\n",
       "      <th>32</th>\n",
       "      <td>6.410124</td>\n",
       "      <td>5.915986</td>\n",
       "    </tr>\n",
       "  </tbody>\n",
       "</table>\n",
       "</div>"
      ],
      "text/plain": [
       "        mean       std\n",
       "21  6.579712  4.732348\n",
       "22  5.582191  5.130109\n",
       "23  4.985425  5.189155\n",
       "24  4.584035  4.820650\n",
       "25  4.874380  4.972625\n",
       "26  4.316579  4.340187\n",
       "27  4.868029  4.138598\n",
       "28  5.068147  4.814736\n",
       "29  5.504863  5.197668\n",
       "30  5.290815  4.589474\n",
       "31  6.091334  5.860929\n",
       "32  6.410124  5.915986"
      ]
     },
     "execution_count": 6,
     "metadata": {},
     "output_type": "execute_result"
    }
   ],
   "source": [
    "prime_df = ffrank_df[['FantPos', 'Player', 'Age', 'FantPt/G', 'Fantasy_FantPt']]\n",
    "min_age = prime_df['Age'].min()\n",
    "max_age = prime_df['Age'].max()\n",
    "\n",
    "age_dict = {}\n",
    "for i in range(min_age, max_age+1):\n",
    "    _series = prime_df[prime_df['Age'] == i]['FantPt/G']\n",
    "    if len(_series) >= 30:\n",
    "        mean = _series.mean()\n",
    "        std = _series.std()\n",
    "        age_dict[i] = {'mean': mean, 'std': std}\n",
    "\n",
    "agg_prime_df = pd.DataFrame.from_dict(age_dict, orient='index')\n",
    "agg_prime_df"
   ]
  },
  {
   "cell_type": "code",
   "execution_count": 7,
   "id": "0884bf04",
   "metadata": {},
   "outputs": [
    {
     "data": {
      "text/plain": [
       "Text(0.5, 1.0, 'Fantasy Points vs. Age')"
      ]
     },
     "execution_count": 7,
     "metadata": {},
     "output_type": "execute_result"
    },
    {
     "data": {
      "image/png": "[encoded data removed]",
      "text/plain": [
       "<Figure size 1080x576 with 2 Axes>"
      ]
     },
     "metadata": {
      "needs_background": "light"
     },
     "output_type": "display_data"
    }
   ],
   "source": [
    "fig, (ax1, ax2) = plt.subplots(1, 2, figsize=(15, 8))\n",
    "\n",
    "sns.barplot(x=\"Age\", y=\"FantPt/G\", data=prime_df[prime_df['Age']<=31], ax=ax1)\n",
    "ax1.set_title('Fantasy Points per Game vs. Age')\n",
    "\n",
    "sns.barplot(x=\"Age\", y=\"Fantasy_FantPt\", data=prime_df[prime_df['Age']<=31], ax=ax2)\n",
    "ax2.set_title('Fantasy Points vs. Age')\n"
   ]
  },
  {
   "cell_type": "code",
   "execution_count": 8,
   "id": "7149ca76",
   "metadata": {},
   "outputs": [
    {
     "data": {
      "text/plain": [
       "Text(0.5, 1.0, 'Fantasy Points vs. Age (QBs)')"
      ]
     },
     "execution_count": 8,
     "metadata": {},
     "output_type": "execute_result"
    },
    {
     "data": {
      "image/png": "[encoded data removed]",
      "text/plain": [
       "<Figure size 1080x576 with 2 Axes>"
      ]
     },
     "metadata": {
      "needs_background": "light"
     },
     "output_type": "display_data"
    }
   ],
   "source": [
    "fig, (ax1, ax2) = plt.subplots(1, 2, figsize=(15, 8))\n",
    "\n",
    "_qb_prime_df = prime_df[prime_df['Age']<=31]\n",
    "qb_prime_df = _qb_prime_df[_qb_prime_df['FantPos'] == 'QB']\n",
    "\n",
    "sns.barplot(x=\"Age\", y=\"FantPt/G\", data=qb_prime_df, ax=ax1)\n",
    "ax1.set_title('Fantasy Points per Game vs. Age (QBs)')\n",
    "\n",
    "sns.barplot(x=\"Age\", y=\"Fantasy_FantPt\", data=qb_prime_df, ax=ax2)\n",
    "ax2.set_title('Fantasy Points vs. Age (QBs)')"
   ]
  },
  {
   "cell_type": "code",
   "execution_count": 9,
   "id": "50e3d21f",
   "metadata": {},
   "outputs": [
    {
     "data": {
      "text/plain": [
       "Text(0.5, 1.0, 'Fantasy Points vs. Age (RBs)')"
      ]
     },
     "execution_count": 9,
     "metadata": {},
     "output_type": "execute_result"
    },
    {
     "data": {
      "image/png": "[encoded data removed]",
      "text/plain": [
       "<Figure size 1080x576 with 2 Axes>"
      ]
     },
     "metadata": {
      "needs_background": "light"
     },
     "output_type": "display_data"
    }
   ],
   "source": [
    "fig, (ax1, ax2) = plt.subplots(1, 2, figsize=(15, 8))\n",
    "\n",
    "_rb_prime_df = prime_df[prime_df['Age']<=31]\n",
    "rb_prime_df = _rb_prime_df[_rb_prime_df['FantPos'] == 'RB']\n",
    "\n",
    "sns.barplot(x=\"Age\", y=\"FantPt/G\", data=rb_prime_df, ax=ax1)\n",
    "ax1.set_title('Fantasy Points per Game vs. Age (RBs)')\n",
    "\n",
    "sns.barplot(x=\"Age\", y=\"Fantasy_FantPt\", data=rb_prime_df, ax=ax2)\n",
    "ax2.set_title('Fantasy Points vs. Age (RBs)')"
   ]
  },
  {
   "cell_type": "code",
   "execution_count": 10,
   "id": "d6f739bc",
   "metadata": {},
   "outputs": [
    {
     "data": {
      "text/plain": [
       "Text(0.5, 1.0, 'Fantasy Points vs. Age (WRs)')"
      ]
     },
     "execution_count": 10,
     "metadata": {},
     "output_type": "execute_result"
    },
    {
     "data": {
      "image/png": "[encoded data removed]",
      "text/plain": [
       "<Figure size 1080x576 with 2 Axes>"
      ]
     },
     "metadata": {
      "needs_background": "light"
     },
     "output_type": "display_data"
    }
   ],
   "source": [
    "fig, (ax1, ax2) = plt.subplots(1, 2, figsize=(15, 8))\n",
    "\n",
    "_wr_prime_df = prime_df[prime_df['Age']<=31]\n",
    "wr_prime_df = _wr_prime_df[_wr_prime_df['FantPos'] == 'WR']\n",
    "\n",
    "sns.barplot(x=\"Age\", y=\"FantPt/G\", data=wr_prime_df, ax=ax1)\n",
    "ax1.set_title('Fantasy Points per Game vs. Age (WRs)')\n",
    "\n",
    "sns.barplot(x=\"Age\", y=\"Fantasy_FantPt\", data=wr_prime_df, ax=ax2)\n",
    "ax2.set_title('Fantasy Points vs. Age (WRs)')"
   ]
  },
  {
   "cell_type": "code",
   "execution_count": 11,
   "id": "1bf85903",
   "metadata": {},
   "outputs": [
    {
     "data": {
      "text/plain": [
       "Text(0.5, 1.0, 'Fantasy Points vs. Age (TEs)')"
      ]
     },
     "execution_count": 11,
     "metadata": {},
     "output_type": "execute_result"
    },
    {
     "data": {
      "image/png": "[encoded data removed]",
      "text/plain": [
       "<Figure size 1080x576 with 2 Axes>"
      ]
     },
     "metadata": {
      "needs_background": "light"
     },
     "output_type": "display_data"
    }
   ],
   "source": [
    "fig, (ax1, ax2) = plt.subplots(1, 2, figsize=(15, 8))\n",
    "\n",
    "_te_prime_df = prime_df[prime_df['Age']<=31]\n",
    "te_prime_df = _te_prime_df[_te_prime_df['FantPos'] == 'TE']\n",
    "\n",
    "sns.barplot(x=\"Age\", y=\"FantPt/G\", data=te_prime_df, ax=ax1)\n",
    "ax1.set_title('Fantasy Points per Game vs. Age (TEs)')\n",
    "\n",
    "sns.barplot(x=\"Age\", y=\"Fantasy_FantPt\", data=te_prime_df, ax=ax2)\n",
    "ax2.set_title('Fantasy Points vs. Age (TEs)')"
   ]
  },
  {
   "cell_type": "code",
   "execution_count": null,
   "id": "9a92e065",
   "metadata": {},
   "outputs": [],
   "source": []
  }
 ],
 "metadata": {
  "kernelspec": {
   "display_name": "Python 3",
   "language": "python",
   "name": "python3"
  },
  "language_info": {
   "codemirror_mode": {
    "name": "ipython",
    "version": 3
   },
   "file_extension": ".py",
   "mimetype": "text/x-python",
   "name": "python",
   "nbconvert_exporter": "python",
   "pygments_lexer": "ipython3",
   "version": "3.9.5"
  }
 },
 "nbformat": 4,
 "nbformat_minor": 5
}
